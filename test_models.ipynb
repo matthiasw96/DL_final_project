{
  "nbformat": 4,
  "nbformat_minor": 0,
  "metadata": {
    "colab": {
      "provenance": [],
      "machine_shape": "hm",
      "authorship_tag": "ABX9TyP9+jnJE19zAYef5Q5S/tpS",
      "include_colab_link": true
    },
    "kernelspec": {
      "name": "python3",
      "display_name": "Python 3"
    },
    "language_info": {
      "name": "python"
    }
  },
  "cells": [
    {
      "cell_type": "markdown",
      "metadata": {
        "id": "view-in-github",
        "colab_type": "text"
      },
      "source": [
        "<a href=\"https://colab.research.google.com/github/dimitrod/ehu_nlp_dimathina/blob/clean_branch/test_models.ipynb\" target=\"_parent\"><img src=\"https://colab.research.google.com/assets/colab-badge.svg\" alt=\"Open In Colab\"/></a>"
      ]
    },
    {
      "cell_type": "markdown",
      "source": [
        "# Model Test Environment\n",
        "Use this notebook to conduct single tests on the model of your choice.\n",
        "\n"
      ],
      "metadata": {
        "id": "N6R7R18RhL1_"
      }
    },
    {
      "cell_type": "markdown",
      "source": [
        "\n",
        "\n",
        "---\n",
        "\n"
      ],
      "metadata": {
        "id": "xFRvUd8FjTnJ"
      }
    },
    {
      "cell_type": "markdown",
      "source": [
        "## Setup\n",
        "To import the model into the evaluation environment enter the parameters into the script below. Use the following table to find the right entries for each model:\n",
        "\n",
        "\n",
        "|Model|Context|MODEL_NAME|DATABASE|PARAMS|Note|\n",
        "|----------|----------|----------|----------|----------|----------|\n",
        "|Tiny Llama|-|tiny_llama_no_retriever|-|-|**very slow**|\n",
        "|Tiny Llama|Whole documents|tiny_llama_dense|**external**|-|**very slow**|\n",
        "|Mistral Instruct|-|mistral_instruct_no_retriever|-|-|**Huggingface and Pinecone Token and GPU required**|\n",
        "|Mistral Instruct|Whole documents|mistral_instruct_dense|**external**|-|**Huggingface and Pinecone Token and GPU required**|\n",
        "|Mistral Instruct|Text Fragments|mistral_instruct_hybrid|sparse-dense|k, c, o|**Huggingface and Pinecone Token and GPU required**|\n",
        "|Bert Base|QA Pairs|bert_base_qa_embeddings|**directly imported**|k|-|\n",
        "|Bert Base|Whole documents|bert_base_dense|**external**|-|-|\n",
        "|Bert Base|Text Fragments|bert_base_sparse|sparse|k|-|\n",
        "|Bert Finetuned|Whole documents|bert_finetuned_dense|**external**|-|-|\n",
        "|Chat GPT 4o|-|chat_gpt_no_retriever|-|t|**Not free to use, OpenAI Token required**|\n",
        "|Chat GPT 4o|Whole documents|chat_gpt_hybrid|sparse-dense|k, c, o, t|**Not free to use, OpenAI Token required**|\n",
        "\n",
        "The meaning of each parameter can be found in this table\n",
        "\n",
        "|Parameter Name|Description|\n",
        "|----------|----------|\n",
        "|k|Number of contexts the retriever sends to the reader|\n",
        "|c|chunk size of each context|\n",
        "|o|overlap between the contexts|\n",
        "|t|temparature of the reader model|\n",
        "\n",
        "If the model uses an external database, a directly imported database or no database please enter an empty string (\"\") for the DATABASE variable in the script."
      ],
      "metadata": {
        "id": "iO2nNW6kjU1m"
      }
    },
    {
      "cell_type": "code",
      "source": [
        "import os\n",
        "import importlib\n",
        "\n",
        "os.environ[\"MODEL_NAME\"] = \"tiny_llama_no_retriever\"\n",
        "os.environ[\"DATABASE\"] = \"\""
      ],
      "metadata": {
        "id": "GFVVjMQZEgao"
      },
      "execution_count": null,
      "outputs": []
    },
    {
      "cell_type": "markdown",
      "source": [
        "Execute the following script to setup the test environment"
      ],
      "metadata": {
        "id": "xgzaKxQ5gOLC"
      }
    },
    {
      "cell_type": "code",
      "source": [
        "import os\n",
        "import shutil\n",
        "\n",
        "# Set environment variables\n",
        "directory = os.environ[\"MODEL_NAME\"]\n",
        "database = os.environ[\"DATABASE\"]\n",
        "\n",
        "# Install Git LFS\n",
        "!sudo apt-get install git-lfs -y\n",
        "!git lfs install\n",
        "\n",
        "# Clone the repository\n",
        "!git clone --branch clean_branch https://github.com/dimitrod/ehu_nlp_dimathina.git\n",
        "%cd ehu_nlp_dimathina\n",
        "\n",
        "# Fetch and checkout files for the model\n",
        "dir_path = f\"models/{directory}/*\"\n",
        "!git lfs fetch --include=\"{dir_path}\"\n",
        "!git lfs checkout\n",
        "%cd ..\n",
        "\n",
        "# Move the model to the current directory\n",
        "shutil.move(f\"ehu_nlp_dimathina/models/{directory}\", \".\")\n",
        "\n",
        "# Install model-specific requirements\n",
        "!pip install -r {directory}/requirements.txt\n",
        "\n",
        "# Handle the optional database\n",
        "if database:\n",
        "    %cd ehu_nlp_dimathina\n",
        "    db_path = f\"databases/{database}/*\"\n",
        "    !git lfs fetch --include=\"{db_path}\"\n",
        "    !git lfs checkout\n",
        "    %cd ..\n",
        "    shutil.move(f\"ehu_nlp_dimathina/databases/{database}\", f\"{directory}/database\")\n",
        "\n",
        "# Cleanup\n",
        "shutil.rmtree(\"ehu_nlp_dimathina\")\n",
        "#shutil.rmtree(\"sample_data\")\n"
      ],
      "metadata": {
        "collapsed": true,
        "id": "18hivlpgIwuA",
        "outputId": "45959ceb-9d27-4951-f12e-67624a3cd015",
        "colab": {
          "base_uri": "https://localhost:8080/"
        }
      },
      "execution_count": null,
      "outputs": [
        {
          "output_type": "stream",
          "name": "stdout",
          "text": [
            "Reading package lists... Done\n",
            "Building dependency tree... Done\n",
            "Reading state information... Done\n",
            "git-lfs is already the newest version (3.0.2-1ubuntu0.3).\n",
            "0 upgraded, 0 newly installed, 0 to remove and 49 not upgraded.\n",
            "Git LFS initialized.\n",
            "Cloning into 'ehu_nlp_dimathina'...\n",
            "remote: Enumerating objects: 1902, done.\u001b[K\n",
            "remote: Counting objects: 100% (493/493), done.\u001b[K\n",
            "remote: Compressing objects: 100% (402/402), done.\u001b[K\n",
            "remote: Total 1902 (delta 265), reused 125 (delta 91), pack-reused 1409 (from 1)\u001b[K\n",
            "Receiving objects: 100% (1902/1902), 30.09 MiB | 48.99 MiB/s, done.\n",
            "Resolving deltas: 100% (1159/1159), done.\n",
            "/content/ehu_nlp_dimathina\n",
            "fetch: Fetching reference refs/heads/clean_branch\n",
            "Skipped checkout for \"databases/sparse-dense/document_library.pkl\", content not local. Use fetch to download.\n",
            "Skipped checkout for \"databases/sparse-dense/documents.txt\", content not local. Use fetch to download.\n",
            "Skipped checkout for \"databases/sparse-dense/tfidf_vocabulary.pkl\", content not local. Use fetch to download.\n",
            "Skipped checkout for \"databases/sparse/document_library.pkl\", content not local. Use fetch to download.\n",
            "Skipped checkout for \"databases/sparse/documents.txt\", content not local. Use fetch to download.\n",
            "Skipped checkout for \"databases/sparse/tfidf_vocabulary.pkl\", content not local. Use fetch to download.\n",
            "Skipped checkout for \"evaluation/requirements.txt\", content not local. Use fetch to download.\n",
            "Skipped checkout for \"models/bert_base_dense/requirements.txt\", content not local. Use fetch to download.\n",
            "Skipped checkout for \"models/bert_base_qa_embeddings/rag_qa_database/index.pkl\", content not local. Use fetch to download.\n",
            "Skipped checkout for \"models/bert_base_qa_embeddings/requirements.txt\", content not local. Use fetch to download.\n",
            "Skipped checkout for \"models/bert_base_sparse/requirements.txt\", content not local. Use fetch to download.\n",
            "Skipped checkout for \"models/bert_finetuned_dense/requirements.txt\", content not local. Use fetch to download.\n",
            "Skipped checkout for \"models/chat_gpt_hybrid/requirements.txt\", content not local. Use fetch to download.\n",
            "Skipped checkout for \"models/chat_gpt_no_retriever/requirements.txt\", content not local. Use fetch to download.\n",
            "Skipped checkout for \"models/mistral_instruct_dense/requirements.txt\", content not local. Use fetch to download.\n",
            "Skipped checkout for \"models/mistral_instruct_hybrid/requirements.txt\", content not local. Use fetch to download.\n",
            "Skipped checkout for \"models/mistral_instruct_no_retriever/requirements.txt\", content not local. Use fetch to download.\n",
            "Skipped checkout for \"models/tiny_llama_dense/requirements.txt\", content not local. Use fetch to download.\n",
            "Skipped checkout for \"results/bert_base_dense_validation_split_size=7993.txt\", content not local. Use fetch to download.\n",
            "Skipped checkout for \"results/bert_base_qa_embeddings_validation_split_size=7993_results.txt\", content not local. Use fetch to download.\n",
            "Skipped checkout for \"results/bert_base_sparse_embeddings_validation_split_size=7993_results.txt\", content not local. Use fetch to download.\n",
            "Skipped checkout for \"results/bert_finetuned_dense_validation_split_size=7993.txt\", content not local. Use fetch to download.\n",
            "Skipped checkout for \"results/chat_gpt_no_retriever_validation_split_size=7993_results.txt\", content not local. Use fetch to download.\n",
            "Skipped checkout for \"results/chat_gpt_sparse_dense_validation_split_size=7993_results.txt\", content not local. Use fetch to download.\n",
            "Skipped checkout for \"results/mistral_instruct_dense_validation_split_size=7993.txt\", content not local. Use fetch to download.\n",
            "Skipped checkout for \"results/mistral_instruct_no_retriever_validation_split_size=7993.txt\", content not local. Use fetch to download.\n",
            "Skipped checkout for \"results/tiny_llama_no_retriever_validation_split_size=7993.txt\", content not local. Use fetch to download.\n",
            "Checking out LFS objects: 100% (38/38), 1.5 GB | 0 B/s, done.\n",
            "/content\n",
            "Requirement already satisfied: transformers in /usr/local/lib/python3.10/dist-packages (from -r tiny_llama_no_retriever/requirements.txt (line 1)) (4.48.0.dev0)\n",
            "Requirement already satisfied: accelerate>=0.26.0 in /usr/local/lib/python3.10/dist-packages (from -r tiny_llama_no_retriever/requirements.txt (line 2)) (1.2.0.dev0)\n",
            "Requirement already satisfied: torch in /usr/local/lib/python3.10/dist-packages (from -r tiny_llama_no_retriever/requirements.txt (line 3)) (2.5.1+cu121)\n",
            "Requirement already satisfied: filelock in /usr/local/lib/python3.10/dist-packages (from transformers->-r tiny_llama_no_retriever/requirements.txt (line 1)) (3.16.1)\n",
            "Requirement already satisfied: huggingface-hub<1.0,>=0.24.0 in /usr/local/lib/python3.10/dist-packages (from transformers->-r tiny_llama_no_retriever/requirements.txt (line 1)) (0.27.0)\n",
            "Requirement already satisfied: numpy>=1.17 in /usr/local/lib/python3.10/dist-packages (from transformers->-r tiny_llama_no_retriever/requirements.txt (line 1)) (1.26.4)\n",
            "Requirement already satisfied: packaging>=20.0 in /usr/local/lib/python3.10/dist-packages (from transformers->-r tiny_llama_no_retriever/requirements.txt (line 1)) (24.2)\n",
            "Requirement already satisfied: pyyaml>=5.1 in /usr/local/lib/python3.10/dist-packages (from transformers->-r tiny_llama_no_retriever/requirements.txt (line 1)) (6.0.2)\n",
            "Requirement already satisfied: regex!=2019.12.17 in /usr/local/lib/python3.10/dist-packages (from transformers->-r tiny_llama_no_retriever/requirements.txt (line 1)) (2024.11.6)\n",
            "Requirement already satisfied: requests in /usr/local/lib/python3.10/dist-packages (from transformers->-r tiny_llama_no_retriever/requirements.txt (line 1)) (2.32.3)\n",
            "Requirement already satisfied: tokenizers<0.22,>=0.21 in /usr/local/lib/python3.10/dist-packages (from transformers->-r tiny_llama_no_retriever/requirements.txt (line 1)) (0.21.0)\n",
            "Requirement already satisfied: safetensors>=0.4.1 in /usr/local/lib/python3.10/dist-packages (from transformers->-r tiny_llama_no_retriever/requirements.txt (line 1)) (0.4.5)\n",
            "Requirement already satisfied: tqdm>=4.27 in /usr/local/lib/python3.10/dist-packages (from transformers->-r tiny_llama_no_retriever/requirements.txt (line 1)) (4.67.1)\n",
            "Requirement already satisfied: psutil in /usr/local/lib/python3.10/dist-packages (from accelerate>=0.26.0->-r tiny_llama_no_retriever/requirements.txt (line 2)) (5.9.5)\n",
            "Requirement already satisfied: typing-extensions>=4.8.0 in /usr/local/lib/python3.10/dist-packages (from torch->-r tiny_llama_no_retriever/requirements.txt (line 3)) (4.12.2)\n",
            "Requirement already satisfied: networkx in /usr/local/lib/python3.10/dist-packages (from torch->-r tiny_llama_no_retriever/requirements.txt (line 3)) (3.4.2)\n",
            "Requirement already satisfied: jinja2 in /usr/local/lib/python3.10/dist-packages (from torch->-r tiny_llama_no_retriever/requirements.txt (line 3)) (3.1.4)\n",
            "Requirement already satisfied: fsspec in /usr/local/lib/python3.10/dist-packages (from torch->-r tiny_llama_no_retriever/requirements.txt (line 3)) (2024.10.0)\n",
            "Requirement already satisfied: sympy==1.13.1 in /usr/local/lib/python3.10/dist-packages (from torch->-r tiny_llama_no_retriever/requirements.txt (line 3)) (1.13.1)\n",
            "Requirement already satisfied: mpmath<1.4,>=1.1.0 in /usr/local/lib/python3.10/dist-packages (from sympy==1.13.1->torch->-r tiny_llama_no_retriever/requirements.txt (line 3)) (1.3.0)\n",
            "Requirement already satisfied: MarkupSafe>=2.0 in /usr/local/lib/python3.10/dist-packages (from jinja2->torch->-r tiny_llama_no_retriever/requirements.txt (line 3)) (3.0.2)\n",
            "Requirement already satisfied: charset-normalizer<4,>=2 in /usr/local/lib/python3.10/dist-packages (from requests->transformers->-r tiny_llama_no_retriever/requirements.txt (line 1)) (3.4.0)\n",
            "Requirement already satisfied: idna<4,>=2.5 in /usr/local/lib/python3.10/dist-packages (from requests->transformers->-r tiny_llama_no_retriever/requirements.txt (line 1)) (3.10)\n",
            "Requirement already satisfied: urllib3<3,>=1.21.1 in /usr/local/lib/python3.10/dist-packages (from requests->transformers->-r tiny_llama_no_retriever/requirements.txt (line 1)) (2.2.3)\n",
            "Requirement already satisfied: certifi>=2017.4.17 in /usr/local/lib/python3.10/dist-packages (from requests->transformers->-r tiny_llama_no_retriever/requirements.txt (line 1)) (2024.12.14)\n"
          ]
        }
      ]
    },
    {
      "cell_type": "markdown",
      "source": [
        "Enter the hyperparameters of the model. If the model doesn't require any leave the list empty **but still execute the script**"
      ],
      "metadata": {
        "id": "5_HM15fMgUNG"
      }
    },
    {
      "cell_type": "code",
      "source": [
        "params = []"
      ],
      "metadata": {
        "id": "4Ocgv5fBg1b-"
      },
      "execution_count": null,
      "outputs": []
    },
    {
      "cell_type": "markdown",
      "source": [
        "Create an instance of the model"
      ],
      "metadata": {
        "id": "FAXrOR32ghSu"
      }
    },
    {
      "cell_type": "code",
      "source": [
        "model_name = os.environ[\"MODEL_NAME\"]\n",
        "\n",
        "module_path = f\"{model_name}.{model_name}\"  # Combine directory and module\n",
        "module_obj = importlib.import_module(module_path)  # Import the module dynamically\n",
        "cls_obj = getattr(module_obj, model_name)\n",
        "model = cls_obj(params)"
      ],
      "metadata": {
        "id": "_9BLKq_PgU9g"
      },
      "execution_count": null,
      "outputs": []
    },
    {
      "cell_type": "markdown",
      "source": [
        "\n",
        "\n",
        "---\n",
        "\n"
      ],
      "metadata": {
        "id": "P_cg7cVsglsz"
      }
    },
    {
      "cell_type": "markdown",
      "source": [
        "# Tests\n",
        "Start the tests that you want to conduct"
      ],
      "metadata": {
        "id": "zsoHYs5Fgnyv"
      }
    },
    {
      "cell_type": "code",
      "source": [
        "question = \"What is the capital of france?\"\n",
        "\n",
        "answer = model.invoke(question)\n",
        "\n",
        "print(answer)"
      ],
      "metadata": {
        "id": "V_xw5na6gujx",
        "outputId": "f433f18b-4a13-4ece-94d8-68930cba3abe",
        "colab": {
          "base_uri": "https://localhost:8080/"
        }
      },
      "execution_count": null,
      "outputs": [
        {
          "output_type": "stream",
          "name": "stdout",
          "text": [
            "The capital of France is Paris.\n"
          ]
        }
      ]
    }
  ]
}